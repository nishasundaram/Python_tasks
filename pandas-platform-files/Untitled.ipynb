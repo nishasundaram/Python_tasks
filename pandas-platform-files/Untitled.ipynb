{
 "cells": [
  {
   "cell_type": "code",
   "execution_count": null,
   "id": "30bcd974-d43e-4345-94d7-a527c38c760d",
   "metadata": {},
   "outputs": [],
   "source": [
    "import pandas as pd\n",
    "\n",
    "tips = pd.read_csv('https://raw.github.com/pandas-dev/pandas/master/pandas/tests/io/data/csv/tips.csv')\n"
   ]
  },
  {
   "cell_type": "code",
   "execution_count": null,
   "id": "bcff019f-9064-4d76-8ecc-d6b7abb178b3",
   "metadata": {},
   "outputs": [],
   "source": []
  },
  {
   "cell_type": "code",
   "execution_count": null,
   "id": "277f0f71-93fe-4bce-9c96-3d89770885eb",
   "metadata": {},
   "outputs": [],
   "source": []
  },
  {
   "cell_type": "code",
   "execution_count": null,
   "id": "50639c6b-50d6-413b-9db7-a3d8941e31b4",
   "metadata": {},
   "outputs": [],
   "source": []
  },
  {
   "cell_type": "code",
   "execution_count": null,
   "id": "12353e63-60e1-4282-bbc7-848b0b7b01d2",
   "metadata": {},
   "outputs": [],
   "source": []
  },
  {
   "cell_type": "code",
   "execution_count": null,
   "id": "d3989ce9-de48-4084-bccb-0ef73e57bc27",
   "metadata": {},
   "outputs": [],
   "source": []
  },
  {
   "cell_type": "code",
   "execution_count": null,
   "id": "9357ccd9-310a-4447-ab1d-858b602bf8ef",
   "metadata": {},
   "outputs": [],
   "source": []
  },
  {
   "cell_type": "code",
   "execution_count": null,
   "id": "088ce392-5ab9-4fc6-b43a-2a7cf5bd0880",
   "metadata": {},
   "outputs": [],
   "source": []
  },
  {
   "cell_type": "code",
   "execution_count": null,
   "id": "50e7ac76-b91e-4b85-bbb0-31d01d6ea809",
   "metadata": {},
   "outputs": [],
   "source": []
  },
  {
   "cell_type": "code",
   "execution_count": null,
   "id": "e4ee60da-b573-4274-bbae-602502324b13",
   "metadata": {},
   "outputs": [],
   "source": []
  },
  {
   "cell_type": "code",
   "execution_count": null,
   "id": "671b518c-22bb-4653-89ab-8db687ee77a6",
   "metadata": {},
   "outputs": [],
   "source": []
  },
  {
   "cell_type": "code",
   "execution_count": null,
   "id": "cdd143fc-b0bb-4502-8499-faced5b3eb59",
   "metadata": {},
   "outputs": [],
   "source": [
    "for item in tips.total_bill\n",
    "    print(item)\n",
    "    break"
   ]
  },
  {
   "cell_type": "code",
   "execution_count": null,
   "id": "da4d4a88-3685-44de-8311-e0ba68373844",
   "metadata": {},
   "outputs": [],
   "source": [
    "series_of_boolean_values = (tips.total_bill>20)"
   ]
  },
  {
   "cell_type": "code",
   "execution_count": 2,
   "id": "f5db04d8-fcd5-4891-a4a2-e485fa8e1be5",
   "metadata": {},
   "outputs": [],
   "source": [
    "tips_lesser_than\n",
    "\n",
    "\n"
   ]
  },
  {
   "cell_type": "code",
   "execution_count": null,
   "id": "69326a55-662d-4084-a3de-47e7bd94f8e2",
   "metadata": {},
   "outputs": [],
   "source": [
    "tips[series_of_boolean_values]"
   ]
  }
 ],
 "metadata": {
  "kernelspec": {
   "display_name": "Python 3 (ipykernel)",
   "language": "python",
   "name": "python3"
  },
  "language_info": {
   "codemirror_mode": {
    "name": "ipython",
    "version": 3
   },
   "file_extension": ".py",
   "mimetype": "text/x-python",
   "name": "python",
   "nbconvert_exporter": "python",
   "pygments_lexer": "ipython3",
   "version": "3.9.7"
  }
 },
 "nbformat": 4,
 "nbformat_minor": 5
}
