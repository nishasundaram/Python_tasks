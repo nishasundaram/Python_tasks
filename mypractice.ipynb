{
 "cells": [
  {
   "cell_type": "markdown",
   "id": "379e4162-154a-41de-86e0-69074c8b7e1c",
   "metadata": {},
   "source": [
    "Dataframe from Dictionary:\n",
    "\n"
   ]
  },
  {
   "cell_type": "code",
   "execution_count": 2,
   "id": "cbb89da0-4ee1-48dc-982d-1f8645609e25",
   "metadata": {},
   "outputs": [
    {
     "name": "stdout",
     "output_type": "stream",
     "text": [
      "   Product ID Product Name  Color\n",
      "0           1      t-shirt   blue\n",
      "1           2      t-shirt  green\n",
      "2           3        skirt    red\n",
      "3           4        skirt  black\n"
     ]
    }
   ],
   "source": [
    "\n",
    "import pandas as pd\n",
    "\n",
    "df1 = pd.DataFrame({\n",
    "  'Product ID': [1, 2, 3, 4],\n",
    "  'Product Name': ['t-shirt','t-shirt','skirt','skirt'],\n",
    "  'Color': ['blue','green','red','black']\n",
    "  # add Product Name and Color here\n",
    "})\n",
    "\n",
    "print(df1)"
   ]
  },
  {
   "cell_type": "markdown",
   "id": "513be363-7e2d-4382-9000-d79c05a8cd11",
   "metadata": {},
   "source": [
    "Dataframe from list:"
   ]
  },
  {
   "cell_type": "code",
   "execution_count": 5,
   "id": "15fec807-3ba4-4e83-b7c1-ba65bc0429b0",
   "metadata": {},
   "outputs": [
    {
     "name": "stdout",
     "output_type": "stream",
     "text": [
      "   Store ID       Location  Number of Employees\n",
      "0         1      San Diego                  100\n",
      "1         2    Los Angeles                  120\n",
      "2         3  San Francisco                   90\n",
      "3         4     Sacramento                  115\n"
     ]
    }
   ],
   "source": [
    "import pandas as pd\n",
    "\n",
    "df2 = pd.DataFrame([\n",
    "  [1, 'San Diego', 100],\n",
    "  [2, 'Los Angeles', 120],\n",
    "  [3, 'San Francisco', 90],\n",
    "  [4, 'Sacramento', 115],\n",
    "\n",
    "],\n",
    "  columns=[\"Store ID\", \"Location\", \"Number of Employees\"\n",
    "  ])\n",
    "print(df2)"
   ]
  },
  {
   "cell_type": "code",
   "execution_count": null,
   "id": "c00af1f8-3f90-44ec-9cf9-616618a3c977",
   "metadata": {},
   "outputs": [],
   "source": [
    "Data from a table in csv format:\n",
    "    \n",
    "name,cake_flavor,frosting_flavor,topping\n",
    "Chocolate Cake,chocolate,chocolate,chocolate shavings\n",
    "Birthday Cake,vanilla,vanilla,rainbow sprinkles\n",
    "Carrot Cake,carrot,cream cheese,almonds\n"
   ]
  },
  {
   "cell_type": "code",
   "execution_count": null,
   "id": "4e1d03aa-2f08-40cb-b55f-158cb8fcf2e6",
   "metadata": {},
   "outputs": [],
   "source": [
    "Loading and Saving csv file:\n",
    "    \n",
    "df = pd.read_csv('sample.csv')\n",
    "print(df)\n",
    "\n",
    "df = pd.to_csv('new-csv-file.csv')\n",
    "print(df)"
   ]
  },
  {
   "cell_type": "code",
   "execution_count": null,
   "id": "86980aaa-eecd-40c5-bbe2-a9a1b7e3673c",
   "metadata": {},
   "outputs": [],
   "source": [
    "Inspect a DataFrame:\n",
    "    \n",
    "df.head() - gives the first 5 rows of a DataFrame.\n",
    "df.info() - gives some statistics for each column."
   ]
  },
  {
   "cell_type": "code",
   "execution_count": null,
   "id": "ecc073be-9286-4c7b-af87-df5d6936ee44",
   "metadata": {},
   "outputs": [],
   "source": [
    "Select Columns:\n",
    "    \n",
    "df.MySecondColumn - If the name of a column follows all of the rules for a variable name \n",
    "(doesn’t start with a number, doesn’t contain spaces or special characters, etc.) \n",
    "    \n",
    "To select a single column:\n",
    "clinic_north = df.clinic_north\n",
    "   \n",
    "To select multiple columns:\n",
    "new_df = orders[['last_name', 'email']]\n",
    "\n",
    "PS: Note there are two square brackets.\n"
   ]
  },
  {
   "cell_type": "code",
   "execution_count": 7,
   "id": "c5f3bef4-defe-4f1f-b6f6-0b46cf2ed365",
   "metadata": {},
   "outputs": [
    {
     "name": "stdout",
     "output_type": "stream",
     "text": [
      "<class 'pandas.core.series.Series'>\n",
      "<class 'pandas.core.frame.DataFrame'>\n"
     ]
    }
   ],
   "source": [
    "import pandas as pd\n",
    "\n",
    "df = pd.DataFrame([\n",
    "  ['January', 100, 100, 23, 100],\n",
    "  ['February', 51, 45, 145, 45],\n",
    "  ['March', 81, 96, 65, 96],\n",
    "  ['April', 80, 80, 54, 180],\n",
    "  ['May', 51, 54, 54, 154],\n",
    "  ['June', 112, 109, 79, 129]],\n",
    "  columns=['month', 'clinic_east',\n",
    "           'clinic_north', 'clinic_south',\n",
    "           'clinic_west']\n",
    ")\n",
    "\n",
    "clinic_north = df.clinic_north\n",
    "print(type(clinic_north))\n",
    "\n",
    "print(type(df))"
   ]
  },
  {
   "cell_type": "code",
   "execution_count": 9,
   "id": "80cd9a1c-9ec5-4283-8fb5-f0418fe91fec",
   "metadata": {},
   "outputs": [
    {
     "name": "stdout",
     "output_type": "stream",
     "text": [
      "<class 'pandas.core.frame.DataFrame'>\n"
     ]
    }
   ],
   "source": [
    "import pandas as pd\n",
    "\n",
    "df = pd.DataFrame([\n",
    "  ['January', 100, 100, 23, 100],\n",
    "  ['February', 51, 45, 145, 45],\n",
    "  ['March', 81, 96, 65, 96],\n",
    "  ['April', 80, 80, 54, 180],\n",
    "  ['May', 51, 54, 54, 154],\n",
    "  ['June', 112, 109, 79, 129]],\n",
    "  columns=['month', 'clinic_east',\n",
    "           'clinic_north', 'clinic_south',\n",
    "           'clinic_west']\n",
    ")\n",
    "\n",
    "clinic_north_south = df[['clinic_north', 'clinic_south']]\n",
    "print(type(clinic_north_south))\n"
   ]
  },
  {
   "cell_type": "code",
   "execution_count": null,
   "id": "130b57c7-8a51-45c8-a969-fba73dbec506",
   "metadata": {},
   "outputs": [],
   "source": [
    "Select Rows:\n",
    "\n",
    "Syntax: df.iloc[]\n",
    "   "
   ]
  },
  {
   "cell_type": "code",
   "execution_count": 6,
   "id": "f7d36efd-2f50-478e-a4f9-6483935eac7b",
   "metadata": {},
   "outputs": [
    {
     "name": "stdout",
     "output_type": "stream",
     "text": [
      "month           March\n",
      "clinic_east        81\n",
      "clinic_north       96\n",
      "clinic_south       65\n",
      "clinic_west        96\n",
      "Name: 2, dtype: object\n"
     ]
    }
   ],
   "source": [
    "import pandas as pd\n",
    "\n",
    "df = pd.DataFrame([\n",
    "  ['January', 100, 100, 23, 100],\n",
    "  ['February', 51, 45, 145, 45],\n",
    "  ['March', 81, 96, 65, 96],\n",
    "  ['April', 80, 80, 54, 180],\n",
    "  ['May', 51, 54, 54, 154],\n",
    "  ['June', 112, 109, 79, 129]],\n",
    "  columns=['month', 'clinic_east',\n",
    "           'clinic_north', 'clinic_south',\n",
    "           'clinic_west'])\n",
    "  \n",
    "march = df.iloc[columnnumber]\n",
    "print(march)\n"
   ]
  },
  {
   "cell_type": "code",
   "execution_count": null,
   "id": "92f3e229-166b-4702-b743-ea29a6a59a7a",
   "metadata": {},
   "outputs": [],
   "source": [
    "Select Multiple Rows:\n",
    "Syntax: df.iloc[r1:r2]\n",
    "\n",
    "example:\n",
    "df.iloc[3:7] would select all rows starting at the 3rd row and up to but \n",
    "not including the 7th row (i.e., the 3rd row, 4th row, 5th row, and 6th row)\n",
    "\n",
    "df.iloc[:4] would select all rows up to, but \n",
    "not including the 4th row (i.e., the 0th, 1st, 2nd, and 3rd rows)\n",
    "\n",
    "df.iloc[-3:] would select the rows starting at the 3rd to last row \n",
    "and up to and including the final row"
   ]
  },
  {
   "cell_type": "code",
   "execution_count": 10,
   "id": "f9203c77-011b-4449-b2f4-f459bd6a34a1",
   "metadata": {},
   "outputs": [
    {
     "name": "stdout",
     "output_type": "stream",
     "text": [
      "   month  clinic_east  clinic_north  clinic_south  clinic_west\n",
      "3  April           80            80            54          180\n",
      "4    May           51            54            54          154\n",
      "5   June          112           109            79          129\n"
     ]
    }
   ],
   "source": [
    "df = pd.DataFrame([\n",
    "  ['January', 100, 100, 23, 100],\n",
    "  ['February', 51, 45, 145, 45],\n",
    "  ['March', 81, 96, 65, 96],\n",
    "  ['April', 80, 80, 54, 180],\n",
    "  ['May', 51, 54, 54, 154],\n",
    "  ['June', 112, 109, 79, 129]],\n",
    "  columns=['month', 'clinic_east',\n",
    "           'clinic_north', 'clinic_south',\n",
    "           'clinic_west']\n",
    ")\n",
    "\n",
    "april_may_june = df.iloc[3:7]\n",
    "print(april_may_june)"
   ]
  },
  {
   "cell_type": "code",
   "execution_count": null,
   "id": "ade63f8f-fdb1-4da5-abf1-12fcc27d6dd2",
   "metadata": {},
   "outputs": [],
   "source": [
    "Select Rows with Logic I\n",
    "\n",
    "df[df.MyColumnName == desired_column_value]\n",
    "\n",
    "Suppose we want to select all rows where the customer’s age is 30. We would use:\n",
    "df[df.age == 30]\n",
    "\n",
    "Greater Than, > — Here, we select all rows where the customer’s age is greater than 30:\n",
    "df[df.age > 30]\n",
    "\n",
    "Less Than, < — Here, we select all rows where the customer’s age is less than 30:\n",
    "df[df.age < 30]\n",
    "\n",
    "Not Equal, != — This snippet selects all rows where the customer’s name is not Clara Oswald:\n",
    "df[df.name != 'Clara Oswald']"
   ]
  },
  {
   "cell_type": "code",
   "execution_count": 11,
   "id": "81530672-9a24-433a-b155-3a6bee1b0e5a",
   "metadata": {},
   "outputs": [
    {
     "name": "stdout",
     "output_type": "stream",
     "text": [
      "     month  clinic_east  clinic_north  clinic_south  clinic_west\n",
      "0  January          100           100            23          100\n"
     ]
    }
   ],
   "source": [
    "import pandas as pd\n",
    "\n",
    "df = pd.DataFrame([\n",
    "  ['January', 100, 100, 23, 100],\n",
    "  ['February', 51, 45, 145, 45],\n",
    "  ['March', 81, 96, 65, 96],\n",
    "  ['April', 80, 80, 54, 180],\n",
    "  ['May', 51, 54, 54, 154],\n",
    "  ['June', 112, 109, 79, 129]],\n",
    "  columns=['month', 'clinic_east',\n",
    "           'clinic_north', 'clinic_south',\n",
    "           'clinic_west'])\n",
    "\n",
    "january = df[df.month == 'January']\n",
    "print(january)"
   ]
  },
  {
   "cell_type": "code",
   "execution_count": null,
   "id": "c7a00285-af90-4b54-9d4e-5ad60c2b4fc2",
   "metadata": {},
   "outputs": [],
   "source": [
    "Select Rows with Logic II\n",
    "\n",
    "For instance, suppose we wanted to select all rows where the customer’s age was under 30 \n",
    "or the customer’s name was “Martha Jones”:\n",
    "\n",
    "df[(df.age < 30) | (df.name == 'Martha Jones')]\n",
    "\n",
    "In Python, | means “or” and & means “and”."
   ]
  },
  {
   "cell_type": "code",
   "execution_count": null,
   "id": "56ae80fa-1df7-492c-8f20-f663f55ac468",
   "metadata": {},
   "outputs": [],
   "source": [
    "import pandas as pd\n",
    "\n",
    "df = pd.DataFrame([\n",
    "  ['January', 100, 100, 23, 100],\n",
    "  ['February', 51, 45, 145, 45],\n",
    "  ['March', 81, 96, 65, 96],\n",
    "  ['April', 80, 80, 54, 180],\n",
    "  ['May', 51, 54, 54, 154],\n",
    "  ['June', 112, 109, 79, 129]],\n",
    "  columns=['month', 'clinic_east',\n",
    "           'clinic_north', 'clinic_south',\n",
    "           'clinic_west'])\n",
    "          \n",
    "march_april = df[(df.month == 'March') | (df.month == 'April')]\n",
    "print(march_april)"
   ]
  },
  {
   "cell_type": "code",
   "execution_count": null,
   "id": "5b86b3a6-d912-4538-aab8-44b87bc280bd",
   "metadata": {},
   "outputs": [],
   "source": [
    "Select Rows with Logic III\n",
    "\n",
    "We could use the isin command to check that df.name is one of a list of values:\n",
    "\n",
    "df[df.name.isin(['Martha Jones','Rose Tyler','Amy Pond'])]\n",
    "\n"
   ]
  },
  {
   "cell_type": "code",
   "execution_count": 12,
   "id": "c0fe47bd-3e7b-4d7f-8578-8b440f072bf6",
   "metadata": {},
   "outputs": [
    {
     "name": "stdout",
     "output_type": "stream",
     "text": [
      "      month  clinic_east  clinic_north  clinic_south  clinic_west\n",
      "0   January          100           100            23          100\n",
      "1  February           51            45           145           45\n",
      "2     March           81            96            65           96\n"
     ]
    }
   ],
   "source": [
    "f = pd.DataFrame([\n",
    "  ['January', 100, 100, 23, 100],\n",
    "  ['February', 51, 45, 145, 45],\n",
    "  ['March', 81, 96, 65, 96],\n",
    "  ['April', 80, 80, 54, 180],\n",
    "  ['May', 51, 54, 54, 154],\n",
    "  ['June', 112, 109, 79, 129]],\n",
    "  columns=['month', 'clinic_east',\n",
    "           'clinic_north', 'clinic_south',\n",
    "           'clinic_west'])\n",
    "\n",
    "january_february_march = df[df.month.isin(['January',\n",
    "     'February',\n",
    "     'March'])]\n",
    "\n",
    "print(january_february_march)"
   ]
  },
  {
   "cell_type": "code",
   "execution_count": null,
   "id": "c9e8cbc6-1ee9-42a6-b5bb-baf692ba1c72",
   "metadata": {},
   "outputs": [],
   "source": [
    "Setting indices:\n",
    "\n",
    "If we use the command df.reset_index(), we get a new DataFrame with a new set of indices.\n",
    "\n",
    "First Name\tLast Name\n",
    "0\tJohn\tSmith\n",
    "4\tJane\tDoe\n",
    "7\tJoe\tSchmo\n",
    "\n",
    "Note that the old indices have been moved into a new column called 'index'. \n",
    "Unless you need those values for something special, it’s probably better to use the keyword drop=True \n",
    "so that you don’t end up with that extra column. \n",
    "\n",
    "\tindex\tFirst Name\tLast Name\n",
    "0\t0\tJohn\tSmith\n",
    "1\t4\tJane\tDoe\n",
    "2\t7\tJoe\tSchmo\n",
    "\n",
    "If we run the command df.reset_index(drop=True), we get a new DataFrame that looks like this:\n",
    "\n",
    "    First Name\tLast Name\n",
    "0\tJohn\tSmith\n",
    "1\tJane\tDoe\n",
    "2\tJoe\tSchmo"
   ]
  },
  {
   "cell_type": "code",
   "execution_count": 13,
   "id": "e6b1d1ae-0616-470e-af41-6385c112e329",
   "metadata": {},
   "outputs": [
    {
     "name": "stdout",
     "output_type": "stream",
     "text": [
      "      month  clinic_east  clinic_north  clinic_south  clinic_west\n",
      "1  February           51            45           145           45\n",
      "3     April           80            80            54          180\n",
      "5      June          112           109            79          129\n"
     ]
    }
   ],
   "source": [
    "df = pd.DataFrame([\n",
    "  ['January', 100, 100, 23, 100],\n",
    "  ['February', 51, 45, 145, 45],\n",
    "  ['March', 81, 96, 65, 96],\n",
    "  ['April', 80, 80, 54, 180],\n",
    "  ['May', 51, 54, 54, 154],\n",
    "  ['June', 112, 109, 79, 129]],\n",
    "  columns=['month', 'clinic_east',\n",
    "           'clinic_north', 'clinic_south',\n",
    "           'clinic_west']\n",
    ")\n",
    "\n",
    "df2 = df.loc[[1, 3, 5]]\n",
    "print(df2)\n",
    "\n",
    "df3 = df2.reset_index\n",
    "\n",
    "df3 = df2.reset_index(inplace=True , drop=True)\n"
   ]
  },
  {
   "cell_type": "code",
   "execution_count": null,
   "id": "253581e1-ff97-4a2f-9c69-deed9e3f0415",
   "metadata": {},
   "outputs": [],
   "source": [
    "Calculating Column Statistics:\n",
    "\n",
    "The general syntax for these calculations is:\n",
    "\n",
    "df.column_name.command()"
   ]
  },
  {
   "cell_type": "code",
   "execution_count": null,
   "id": "be84218d-cffd-4d61-b315-964d51096c3a",
   "metadata": {},
   "outputs": [],
   "source": []
  },
  {
   "cell_type": "code",
   "execution_count": null,
   "id": "415f532b-f9fe-48b2-a87d-f89285e2f6c3",
   "metadata": {},
   "outputs": [],
   "source": []
  },
  {
   "cell_type": "code",
   "execution_count": null,
   "id": "b9d31923-a44f-4e53-8202-23950154b4ba",
   "metadata": {},
   "outputs": [],
   "source": []
  },
  {
   "cell_type": "code",
   "execution_count": null,
   "id": "bf473de8-b2b4-4c49-860b-0e3b73371906",
   "metadata": {},
   "outputs": [],
   "source": []
  },
  {
   "cell_type": "code",
   "execution_count": null,
   "id": "4d810668-e714-4641-b408-ece47f91ce57",
   "metadata": {},
   "outputs": [],
   "source": []
  },
  {
   "cell_type": "code",
   "execution_count": null,
   "id": "6afeed8a-4dbe-4230-9f6d-14249756c1c2",
   "metadata": {},
   "outputs": [],
   "source": []
  },
  {
   "cell_type": "code",
   "execution_count": null,
   "id": "1f3a9df0-32ea-402b-b4c8-4389acd46296",
   "metadata": {},
   "outputs": [],
   "source": []
  },
  {
   "cell_type": "code",
   "execution_count": null,
   "id": "64665c3a-3d2e-40c8-b894-29bcd698bf3e",
   "metadata": {},
   "outputs": [],
   "source": []
  },
  {
   "cell_type": "code",
   "execution_count": null,
   "id": "c867b6f9-5038-4c70-b2dd-a549ceb230e8",
   "metadata": {},
   "outputs": [],
   "source": []
  },
  {
   "cell_type": "code",
   "execution_count": null,
   "id": "cebf5e8d-7d6f-4ae0-b542-5f3447735c29",
   "metadata": {},
   "outputs": [],
   "source": []
  }
 ],
 "metadata": {
  "kernelspec": {
   "display_name": "Python 3 (ipykernel)",
   "language": "python",
   "name": "python3"
  },
  "language_info": {
   "codemirror_mode": {
    "name": "ipython",
    "version": 3
   },
   "file_extension": ".py",
   "mimetype": "text/x-python",
   "name": "python",
   "nbconvert_exporter": "python",
   "pygments_lexer": "ipython3",
   "version": "3.9.7"
  }
 },
 "nbformat": 4,
 "nbformat_minor": 5
}
